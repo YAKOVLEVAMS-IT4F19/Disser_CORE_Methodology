{
 "cells": [
  {
   "cell_type": "code",
   "execution_count": 2,
   "metadata": {},
   "outputs": [],
   "source": [
    "import pandas as pd\n",
    "options=pd.read_csv(r'D:/Course_Paper/options_common_table_0304.csv')"
   ]
  },
  {
   "cell_type": "code",
   "execution_count": 3,
   "metadata": {},
   "outputs": [],
   "source": [
    "del options['Unnamed: 0']"
   ]
  },
  {
   "cell_type": "code",
   "execution_count": 4,
   "metadata": {},
   "outputs": [],
   "source": [
    "risk=pd.read_csv(r'D:/Course_Paper/options_risk_common_table_0304.csv')"
   ]
  },
  {
   "cell_type": "code",
   "execution_count": 5,
   "metadata": {},
   "outputs": [],
   "source": [
    "del risk['Unnamed: 0']"
   ]
  },
  {
   "cell_type": "code",
   "execution_count": 6,
   "metadata": {},
   "outputs": [],
   "source": [
    "import numpy as np\n",
    "#Делаем левое объединение таблиц, чтобы добавить информацию об expiration date для call опционов\n",
    "options_info=options.merge(risk, how = 'left', left_on=['REFERENCE_DATE','CONTRACT'], right_on=['REFERENCE_DATE','TICKER'])\n",
    "#Удаляем строки, где есть NaN в столбцах\n",
    "options_info = options_info.dropna(axis='index', how='any', subset=['TICKER'])\n",
    "#Переиндексация\n",
    "options_info.index = np.arange(len(options_info))"
   ]
  },
  {
   "cell_type": "code",
   "execution_count": 7,
   "metadata": {},
   "outputs": [],
   "source": [
    "import datetime as DT\n",
    "options_info.iloc[:,0]=pd.to_datetime(options_info.iloc[:,0],format='%Y-%m-%d')"
   ]
  },
  {
   "cell_type": "code",
   "execution_count": 8,
   "metadata": {},
   "outputs": [],
   "source": [
    "options_info.iloc[:,8]=pd.to_datetime(options_info.iloc[:,8],format='%Y-%m-%d')"
   ]
  },
  {
   "cell_type": "code",
   "execution_count": 9,
   "metadata": {},
   "outputs": [],
   "source": [
    "del options_info['IM_BUY']"
   ]
  },
  {
   "cell_type": "code",
   "execution_count": 15,
   "metadata": {},
   "outputs": [],
   "source": [
    "def get_year(date):\n",
    "    return date.year"
   ]
  },
  {
   "cell_type": "code",
   "execution_count": 17,
   "metadata": {},
   "outputs": [],
   "source": [
    "options_info['YEAR'] = options_info['REFERENCE_DATE'].apply(get_year)"
   ]
  },
  {
   "cell_type": "code",
   "execution_count": 18,
   "metadata": {
    "scrolled": true
   },
   "outputs": [
    {
     "data": {
      "text/html": [
       "<div>\n",
       "<style scoped>\n",
       "    .dataframe tbody tr th:only-of-type {\n",
       "        vertical-align: middle;\n",
       "    }\n",
       "\n",
       "    .dataframe tbody tr th {\n",
       "        vertical-align: top;\n",
       "    }\n",
       "\n",
       "    .dataframe thead th {\n",
       "        text-align: right;\n",
       "    }\n",
       "</style>\n",
       "<table border=\"1\" class=\"dataframe\">\n",
       "  <thead>\n",
       "    <tr style=\"text-align: right;\">\n",
       "      <th></th>\n",
       "      <th>REFERENCE_DATE</th>\n",
       "      <th>CONTRACT</th>\n",
       "      <th>FUT_CONTR</th>\n",
       "      <th>STRIKE</th>\n",
       "      <th>PUT</th>\n",
       "      <th>THEORPRICE</th>\n",
       "      <th>VOLAT</th>\n",
       "      <th>BASEGOBUY</th>\n",
       "      <th>EXP_DATE</th>\n",
       "      <th>TICKER</th>\n",
       "      <th>IM_NOTCOVSELL</th>\n",
       "      <th>IM_COVSELL</th>\n",
       "      <th>YEAR</th>\n",
       "    </tr>\n",
       "  </thead>\n",
       "  <tbody>\n",
       "    <tr>\n",
       "      <th>0</th>\n",
       "      <td>2016-07-04</td>\n",
       "      <td>BR-8.16M260716CA 38</td>\n",
       "      <td>BR-8.16</td>\n",
       "      <td>38.0</td>\n",
       "      <td>C</td>\n",
       "      <td>12.12</td>\n",
       "      <td>46.61909</td>\n",
       "      <td>4482.75</td>\n",
       "      <td>2016-07-26</td>\n",
       "      <td>BR-8.16M260716CA 38</td>\n",
       "      <td>4506.46</td>\n",
       "      <td>899.76</td>\n",
       "      <td>2016</td>\n",
       "    </tr>\n",
       "    <tr>\n",
       "      <th>1</th>\n",
       "      <td>2016-07-04</td>\n",
       "      <td>BR-8.16M260716CA 46</td>\n",
       "      <td>BR-8.16</td>\n",
       "      <td>46.0</td>\n",
       "      <td>C</td>\n",
       "      <td>4.53</td>\n",
       "      <td>37.49964</td>\n",
       "      <td>3139.60</td>\n",
       "      <td>2016-07-26</td>\n",
       "      <td>BR-8.16M260716CA 46</td>\n",
       "      <td>4337.41</td>\n",
       "      <td>2403.09</td>\n",
       "      <td>2016</td>\n",
       "    </tr>\n",
       "    <tr>\n",
       "      <th>2</th>\n",
       "      <td>2016-07-04</td>\n",
       "      <td>BR-8.16M260716CA 47</td>\n",
       "      <td>BR-8.16</td>\n",
       "      <td>47.0</td>\n",
       "      <td>C</td>\n",
       "      <td>3.73</td>\n",
       "      <td>36.93442</td>\n",
       "      <td>2667.88</td>\n",
       "      <td>2016-07-26</td>\n",
       "      <td>BR-8.16M260716CA 47</td>\n",
       "      <td>4237.57</td>\n",
       "      <td>2568.98</td>\n",
       "      <td>2016</td>\n",
       "    </tr>\n",
       "    <tr>\n",
       "      <th>3</th>\n",
       "      <td>2016-07-04</td>\n",
       "      <td>BR-8.16M260716CA 48</td>\n",
       "      <td>BR-8.16</td>\n",
       "      <td>48.0</td>\n",
       "      <td>C</td>\n",
       "      <td>3.00</td>\n",
       "      <td>36.47908</td>\n",
       "      <td>2182.97</td>\n",
       "      <td>2016-07-26</td>\n",
       "      <td>BR-8.16M260716CA 48</td>\n",
       "      <td>4100.94</td>\n",
       "      <td>2795.45</td>\n",
       "      <td>2016</td>\n",
       "    </tr>\n",
       "    <tr>\n",
       "      <th>4</th>\n",
       "      <td>2016-07-04</td>\n",
       "      <td>BR-8.16M260716CA 49</td>\n",
       "      <td>BR-8.16</td>\n",
       "      <td>49.0</td>\n",
       "      <td>C</td>\n",
       "      <td>2.36</td>\n",
       "      <td>36.12862</td>\n",
       "      <td>1731.16</td>\n",
       "      <td>2016-07-26</td>\n",
       "      <td>BR-8.16M260716CA 49</td>\n",
       "      <td>3916.74</td>\n",
       "      <td>3136.59</td>\n",
       "      <td>2016</td>\n",
       "    </tr>\n",
       "    <tr>\n",
       "      <th>...</th>\n",
       "      <td>...</td>\n",
       "      <td>...</td>\n",
       "      <td>...</td>\n",
       "      <td>...</td>\n",
       "      <td>...</td>\n",
       "      <td>...</td>\n",
       "      <td>...</td>\n",
       "      <td>...</td>\n",
       "      <td>...</td>\n",
       "      <td>...</td>\n",
       "      <td>...</td>\n",
       "      <td>...</td>\n",
       "      <td>...</td>\n",
       "    </tr>\n",
       "    <tr>\n",
       "      <th>990078</th>\n",
       "      <td>2020-02-11</td>\n",
       "      <td>VTBR-9.20M160920CA10750</td>\n",
       "      <td>VTBR-9.20</td>\n",
       "      <td>10750.0</td>\n",
       "      <td>C</td>\n",
       "      <td>9.00</td>\n",
       "      <td>45.58581</td>\n",
       "      <td>8.85</td>\n",
       "      <td>2020-09-16</td>\n",
       "      <td>VTBR-9.20M160920CA10750</td>\n",
       "      <td>81.41</td>\n",
       "      <td>929.46</td>\n",
       "      <td>2020</td>\n",
       "    </tr>\n",
       "    <tr>\n",
       "      <th>990079</th>\n",
       "      <td>2020-02-11</td>\n",
       "      <td>VTBR-9.20M160920CA5250</td>\n",
       "      <td>VTBR-9.20</td>\n",
       "      <td>5250.0</td>\n",
       "      <td>C</td>\n",
       "      <td>271.00</td>\n",
       "      <td>30.27834</td>\n",
       "      <td>267.33</td>\n",
       "      <td>2020-09-16</td>\n",
       "      <td>VTBR-9.20M160920CA5250</td>\n",
       "      <td>713.21</td>\n",
       "      <td>839.83</td>\n",
       "      <td>2020</td>\n",
       "    </tr>\n",
       "    <tr>\n",
       "      <th>990080</th>\n",
       "      <td>2020-02-11</td>\n",
       "      <td>VTBR-9.20M160920CA5750</td>\n",
       "      <td>VTBR-9.20</td>\n",
       "      <td>5750.0</td>\n",
       "      <td>C</td>\n",
       "      <td>153.00</td>\n",
       "      <td>30.46863</td>\n",
       "      <td>152.36</td>\n",
       "      <td>2020-09-16</td>\n",
       "      <td>VTBR-9.20M160920CA5750</td>\n",
       "      <td>564.16</td>\n",
       "      <td>894.27</td>\n",
       "      <td>2020</td>\n",
       "    </tr>\n",
       "    <tr>\n",
       "      <th>990081</th>\n",
       "      <td>2020-02-11</td>\n",
       "      <td>VTBR-9.20M160920PA2250</td>\n",
       "      <td>VTBR-9.20</td>\n",
       "      <td>2250.0</td>\n",
       "      <td>P</td>\n",
       "      <td>12.00</td>\n",
       "      <td>49.84617</td>\n",
       "      <td>11.05</td>\n",
       "      <td>2020-09-16</td>\n",
       "      <td>VTBR-9.20M160920PA2250</td>\n",
       "      <td>81.41</td>\n",
       "      <td>984.52</td>\n",
       "      <td>2020</td>\n",
       "    </tr>\n",
       "    <tr>\n",
       "      <th>990082</th>\n",
       "      <td>2020-02-11</td>\n",
       "      <td>VTBR-9.20M160920PA2500</td>\n",
       "      <td>VTBR-9.20</td>\n",
       "      <td>2500.0</td>\n",
       "      <td>P</td>\n",
       "      <td>17.00</td>\n",
       "      <td>46.23786</td>\n",
       "      <td>15.92</td>\n",
       "      <td>2020-09-16</td>\n",
       "      <td>VTBR-9.20M160920PA2500</td>\n",
       "      <td>81.41</td>\n",
       "      <td>985.65</td>\n",
       "      <td>2020</td>\n",
       "    </tr>\n",
       "  </tbody>\n",
       "</table>\n",
       "<p>990083 rows × 13 columns</p>\n",
       "</div>"
      ],
      "text/plain": [
       "       REFERENCE_DATE                 CONTRACT  FUT_CONTR   STRIKE PUT  \\\n",
       "0          2016-07-04      BR-8.16M260716CA 38    BR-8.16     38.0   C   \n",
       "1          2016-07-04      BR-8.16M260716CA 46    BR-8.16     46.0   C   \n",
       "2          2016-07-04      BR-8.16M260716CA 47    BR-8.16     47.0   C   \n",
       "3          2016-07-04      BR-8.16M260716CA 48    BR-8.16     48.0   C   \n",
       "4          2016-07-04      BR-8.16M260716CA 49    BR-8.16     49.0   C   \n",
       "...               ...                      ...        ...      ...  ..   \n",
       "990078     2020-02-11  VTBR-9.20M160920CA10750  VTBR-9.20  10750.0   C   \n",
       "990079     2020-02-11   VTBR-9.20M160920CA5250  VTBR-9.20   5250.0   C   \n",
       "990080     2020-02-11   VTBR-9.20M160920CA5750  VTBR-9.20   5750.0   C   \n",
       "990081     2020-02-11   VTBR-9.20M160920PA2250  VTBR-9.20   2250.0   P   \n",
       "990082     2020-02-11   VTBR-9.20M160920PA2500  VTBR-9.20   2500.0   P   \n",
       "\n",
       "        THEORPRICE     VOLAT  BASEGOBUY   EXP_DATE                   TICKER  \\\n",
       "0            12.12  46.61909    4482.75 2016-07-26      BR-8.16M260716CA 38   \n",
       "1             4.53  37.49964    3139.60 2016-07-26      BR-8.16M260716CA 46   \n",
       "2             3.73  36.93442    2667.88 2016-07-26      BR-8.16M260716CA 47   \n",
       "3             3.00  36.47908    2182.97 2016-07-26      BR-8.16M260716CA 48   \n",
       "4             2.36  36.12862    1731.16 2016-07-26      BR-8.16M260716CA 49   \n",
       "...            ...       ...        ...        ...                      ...   \n",
       "990078        9.00  45.58581       8.85 2020-09-16  VTBR-9.20M160920CA10750   \n",
       "990079      271.00  30.27834     267.33 2020-09-16   VTBR-9.20M160920CA5250   \n",
       "990080      153.00  30.46863     152.36 2020-09-16   VTBR-9.20M160920CA5750   \n",
       "990081       12.00  49.84617      11.05 2020-09-16   VTBR-9.20M160920PA2250   \n",
       "990082       17.00  46.23786      15.92 2020-09-16   VTBR-9.20M160920PA2500   \n",
       "\n",
       "        IM_NOTCOVSELL  IM_COVSELL  YEAR  \n",
       "0             4506.46      899.76  2016  \n",
       "1             4337.41     2403.09  2016  \n",
       "2             4237.57     2568.98  2016  \n",
       "3             4100.94     2795.45  2016  \n",
       "4             3916.74     3136.59  2016  \n",
       "...               ...         ...   ...  \n",
       "990078          81.41      929.46  2020  \n",
       "990079         713.21      839.83  2020  \n",
       "990080         564.16      894.27  2020  \n",
       "990081          81.41      984.52  2020  \n",
       "990082          81.41      985.65  2020  \n",
       "\n",
       "[990083 rows x 13 columns]"
      ]
     },
     "execution_count": 18,
     "metadata": {},
     "output_type": "execute_result"
    }
   ],
   "source": [
    "options_info"
   ]
  },
  {
   "cell_type": "code",
   "execution_count": 11,
   "metadata": {},
   "outputs": [
    {
     "data": {
      "text/plain": [
       "2016"
      ]
     },
     "execution_count": 11,
     "metadata": {},
     "output_type": "execute_result"
    }
   ],
   "source": [
    "options_info.iloc[0,0].year"
   ]
  },
  {
   "cell_type": "code",
   "execution_count": 30,
   "metadata": {},
   "outputs": [
    {
     "name": "stdout",
     "output_type": "stream",
     "text": [
      "3840\n",
      "7180\n",
      "9086\n",
      "9500\n",
      "2220\n"
     ]
    }
   ],
   "source": [
    "options_info_group=options_info.groupby(['YEAR'])['CONTRACT'].unique()\n",
    "print(len(options_info_group[2016]))\n",
    "print(len(options_info_group[2017]))\n",
    "print(len(options_info_group[2018]))\n",
    "print(len(options_info_group[2019]))\n",
    "print(len(options_info_group[2020]))"
   ]
  },
  {
   "cell_type": "code",
   "execution_count": 33,
   "metadata": {},
   "outputs": [],
   "source": [
    "import math\n",
    "from scipy.stats import norm\n",
    "\"\"\"Создаем функцию, которая считает цену опциона\"\"\"\n",
    "def option_price_share(price, strike, IV, time, put=False):\n",
    "    ln=math.log(price/strike)\n",
    "    denom=IV*math.sqrt(time)\n",
    "    d1=(((IV**2)/2)*time+ln)/denom\n",
    "    d2=d1-denom\n",
    "    \n",
    "    Nd1=norm.cdf(d1, loc=0, scale=1)\n",
    "    Nd2=norm.cdf(d2, loc=0, scale=1)\n",
    "    Nd_1=norm.cdf(-d1, loc=0, scale=1)\n",
    "    Nd_2=norm.cdf(-d2, loc=0, scale=1)\n",
    "    option=price*Nd1-strike*Nd2\n",
    "    if put:\n",
    "        option=strike*Nd_2-price*Nd_1\n",
    "    return option"
   ]
  },
  {
   "cell_type": "code",
   "execution_count": 10,
   "metadata": {},
   "outputs": [
    {
     "data": {
      "text/plain": [
       "Timedelta('22 days 00:00:00')"
      ]
     },
     "execution_count": 10,
     "metadata": {},
     "output_type": "execute_result"
    }
   ],
   "source": [
    "options_info.iloc[0,8]-options_info.iloc[0,0]"
   ]
  },
  {
   "cell_type": "code",
   "execution_count": 34,
   "metadata": {
    "scrolled": true
   },
   "outputs": [
    {
     "data": {
      "text/plain": [
       "12.122889278274563"
      ]
     },
     "execution_count": 34,
     "metadata": {},
     "output_type": "execute_result"
    }
   ],
   "source": [
    "option_price_share(50.11,38,46.61909/100,22/365)"
   ]
  },
  {
   "cell_type": "code",
   "execution_count": 12,
   "metadata": {},
   "outputs": [
    {
     "data": {
      "text/plain": [
       "1.0"
      ]
     },
     "execution_count": 12,
     "metadata": {},
     "output_type": "execute_result"
    }
   ],
   "source": [
    "norm.cdf(50, loc=0, scale=1)"
   ]
  },
  {
   "cell_type": "code",
   "execution_count": 27,
   "metadata": {},
   "outputs": [],
   "source": [
    "a = np.arange(-3.5, 3.5, 0.1)"
   ]
  },
  {
   "cell_type": "code",
   "execution_count": 28,
   "metadata": {},
   "outputs": [],
   "source": [
    "b=norm.cdf(a, loc=0, scale=1)\n",
    "c=norm.pdf(a, loc=0, scale=1)"
   ]
  },
  {
   "cell_type": "code",
   "execution_count": 31,
   "metadata": {},
   "outputs": [
    {
     "data": {
      "image/png": "[encoded data removed]",
      "text/plain": [
       "<Figure size 648x648 with 1 Axes>"
      ]
     },
     "metadata": {
      "needs_background": "light"
     },
     "output_type": "display_data"
    }
   ],
   "source": [
    "import matplotlib.pyplot as plt\n",
    "plt.figure(figsize=(9,9))\n",
    "plt.plot(a, b,color='blue',linewidth=4, label='CDF (Cumulative Probability)')\n",
    "plt.plot(a, c,color='red',linewidth=4,label='PDF (Density)')\n",
    "plt.title('Плотность вероятности и кумулятивная функция распределения \\n mu=0 sigma=1',fontsize=15)\n",
    "plt.legend(fontsize=15)\n",
    "plt.tick_params(labelsize=15)\n",
    "plt.grid()\n",
    "\n",
    "#plt.show()\n",
    "plt.savefig('call_long_price_time.png', dpi = 1000,transparent=True)"
   ]
  },
  {
   "cell_type": "code",
   "execution_count": 19,
   "metadata": {},
   "outputs": [],
   "source": []
  },
  {
   "cell_type": "code",
   "execution_count": null,
   "metadata": {},
   "outputs": [],
   "source": []
  }
 ],
 "metadata": {
  "kernelspec": {
   "display_name": "Python 3",
   "language": "python",
   "name": "python3"
  },
  "language_info": {
   "codemirror_mode": {
    "name": "ipython",
    "version": 3
   },
   "file_extension": ".py",
   "mimetype": "text/x-python",
   "name": "python",
   "nbconvert_exporter": "python",
   "pygments_lexer": "ipython3",
   "version": "3.7.6"
  }
 },
 "nbformat": 4,
 "nbformat_minor": 4
}
