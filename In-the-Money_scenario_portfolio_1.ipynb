{
 "cells": [
  {
   "cell_type": "code",
   "execution_count": 1,
   "metadata": {},
   "outputs": [],
   "source": [
    "import pandas as pd\n",
    "from scipy.stats import norm\n",
    "import math\n",
    "import numpy as np\n",
    "import matplotlib.pyplot as plt\n",
    "import itertools\n",
    "\"\"\"Создаем функцию, которая считает цену фьючерса при различных сценариях.\n",
    "std-стандартное отклонение цены базового актива\"\"\"\n",
    "def future_change(price,strike,time,r,std):\n",
    "    vector=[0,0,1/3*std,1/3*std,-1/3*std,-1/3*std,2/3*std,2/3*std,-2/3*std,-2/3*std,std,std,-std,-std,2*std,-2*std]\n",
    "    changes=[]\n",
    "    for i in range(0,len(vector)):\n",
    "        changes.append(price*(1+vector[i])-strike*(math.exp(-time*r)))\n",
    "    #Два крайних сценария включаются с коэффициентом 0,35\n",
    "    changes[-1]=changes[-1]*0.35\n",
    "    changes[-2]=changes[-2]*0.35\n",
    "    return changes"
   ]
  },
  {
   "cell_type": "code",
   "execution_count": 2,
   "metadata": {},
   "outputs": [],
   "source": [
    "import math\n",
    "from scipy.stats import norm\n",
    "\"\"\"Создаем функцию, которая считает цену опциона\"\"\"\n",
    "def option_price_share(price, strike, IV, time, put=False):\n",
    "    ln=math.log(price/strike)\n",
    "    denom=IV*math.sqrt(time)\n",
    "    d1=(((IV**2)/2)*time+ln)/denom\n",
    "    d2=d1-denom\n",
    "    \n",
    "    Nd1=norm.cdf(d1, loc=0, scale=1)\n",
    "    Nd2=norm.cdf(d2, loc=0, scale=1)\n",
    "    Nd_1=norm.cdf(-d1, loc=0, scale=1)\n",
    "    Nd_2=norm.cdf(-d2, loc=0, scale=1)\n",
    "    option=price*Nd1-strike*Nd2\n",
    "    if put:\n",
    "        option=strike*Nd_2-price*Nd_1\n",
    "    return option"
   ]
  },
  {
   "cell_type": "code",
   "execution_count": 3,
   "metadata": {},
   "outputs": [],
   "source": [
    "\"\"\"Создаем функцию, которая считает цену опциона при различных сценариях\n",
    "basic_std - ст.откл. цены базового актива\n",
    "delta_std - ст. откл. изменения IV\"\"\"\n",
    "def option_change(price, strike, IV, time, basic_std, delta_std, put=False):\n",
    "    price_vector=[0,0,1/3*basic_std,1/3*basic_std,-1/3*basic_std,-1/3*basic_std,\n",
    "                 2/3*basic_std,2/3*basic_std,-2/3*basic_std,-2/3*basic_std,basic_std,\n",
    "                 basic_std,-basic_std,-basic_std,2*basic_std,-2*basic_std]\n",
    "    volatility_vector=[delta_std,-delta_std,delta_std,-delta_std,delta_std,-delta_std,delta_std,-delta_std,\n",
    "                      delta_std,-delta_std,delta_std,-delta_std,delta_std,-delta_std,0,0]\n",
    "    PL=[]\n",
    "    basic_prices=[]\n",
    "    contract_prices=[]\n",
    "    if put:\n",
    "        price0=option_price_share(price, strike, IV, time, put=True)\n",
    "        for i in range(0,len(price_vector)):\n",
    "            price_new=option_price_share(price*(1+price_vector[i]), strike, IV+volatility_vector[i], time, put=True)\n",
    "            basic_prices.append(price*(1+price_vector[i]))\n",
    "            contract_prices.append(price_new)\n",
    "            PL.append(price_new-price0)\n",
    "\n",
    "        PL[-1]=PL[-1]*0.35\n",
    "        PL[-2]=PL[-2]*0.35\n",
    "\n",
    "    else:\n",
    "        price0=option_price_share(price, strike, IV, time, put=False)\n",
    "        for i in range(0,len(price_vector)):\n",
    "            price_new=option_price_share(price*(1+price_vector[i]), strike, IV+volatility_vector[i], time, put=False)\n",
    "            basic_prices.append(price*(1+price_vector[i]))\n",
    "            contract_prices.append(price_new)\n",
    "            PL.append(price_new-price0)\n",
    "\n",
    "        PL[-1]=PL[-1]*0.35\n",
    "        PL[-2]=PL[-2]*0.35\n",
    "    return PL, basic_prices, contract_prices"
   ]
  },
  {
   "cell_type": "code",
   "execution_count": 4,
   "metadata": {},
   "outputs": [],
   "source": [
    "#Задаем вектор объема позиций call_опциона в портфеле на каждый день\n",
    "#Предполагаем, что можем закрыть позицию только на 7 день\n",
    "q_c=[2000,2000,2000,2000,2000,2000,0]"
   ]
  },
  {
   "cell_type": "code",
   "execution_count": 5,
   "metadata": {},
   "outputs": [
    {
     "data": {
      "text/plain": [
       "[0, 0, 0, 0, 0, 2000, 0]"
      ]
     },
     "execution_count": 5,
     "metadata": {},
     "output_type": "execute_result"
    }
   ],
   "source": [
    "#Создадим вектора нереализованных позиций\n",
    "q_c_risk=[]\n",
    "\n",
    "for x, y in zip(q_c[0::], q_c[1::]):\n",
    "        q_c_risk.append(x-y)\n",
    "q_c_risk.append(0)\n",
    "q_c_risk"
   ]
  },
  {
   "cell_type": "code",
   "execution_count": 6,
   "metadata": {},
   "outputs": [],
   "source": [
    "#Создаем различные стратегии закрытия форвардных позиций\n",
    "sale_fut=[]\n",
    "#Задаем любой вектор из 6 элементов, где 4 элемента равны 500. \n",
    "#7 элемент является первым нулевым элементом, т.к. в первый день позиции не закрываются\n",
    "sale_fut_0=[0,500,500,500,500,0]\n",
    "\n",
    "#получаем список всех возможных перестановок реализации позиций для 6 элементов\n",
    "import itertools\n",
    "per = itertools.permutations(sale_fut_0)\n",
    "sale_fut_00=[]\n",
    "for val in per:\n",
    "    sale_fut_00.append(val)\n",
    "\n",
    "#Выкидываем повторения\n",
    "sale_fut_000 = list(set(sale_fut_00))\n",
    "\n",
    "#Из tuple делаем списки\n",
    "for i in range(0,len(sale_fut_000)):\n",
    "    sale_fut.append(list(sale_fut_000[i]))\n",
    "    \n",
    "#Добавляем нулевой 7 элемент    \n",
    "for i in range(0,len(sale_fut)):\n",
    "    sale_fut[i][:0]=[0]"
   ]
  },
  {
   "cell_type": "code",
   "execution_count": 7,
   "metadata": {},
   "outputs": [
    {
     "data": {
      "text/plain": [
       "[[0, 0, 500, 500, 500, 0, 500],\n",
       " [0, 500, 0, 0, 500, 500, 500],\n",
       " [0, 500, 500, 0, 500, 500, 0],\n",
       " [0, 500, 500, 0, 0, 500, 500],\n",
       " [0, 0, 500, 500, 0, 500, 500],\n",
       " [0, 0, 500, 500, 500, 500, 0],\n",
       " [0, 0, 0, 500, 500, 500, 500],\n",
       " [0, 500, 0, 500, 500, 0, 500],\n",
       " [0, 500, 500, 0, 500, 0, 500],\n",
       " [0, 500, 500, 500, 0, 0, 500],\n",
       " [0, 500, 0, 500, 500, 500, 0],\n",
       " [0, 500, 0, 500, 0, 500, 500],\n",
       " [0, 500, 500, 500, 0, 500, 0],\n",
       " [0, 0, 500, 0, 500, 500, 500],\n",
       " [0, 500, 500, 500, 500, 0, 0]]"
      ]
     },
     "execution_count": 7,
     "metadata": {},
     "output_type": "execute_result"
    }
   ],
   "source": [
    "sale_fut"
   ]
  },
  {
   "cell_type": "code",
   "execution_count": 8,
   "metadata": {},
   "outputs": [],
   "source": [
    "#Рассчитываем списки объемов оставшихся позиций в портфеле\n",
    "for i in range(0,len(sale_fut)):\n",
    "    q_f=2000\n",
    "    for j in range(0,len(sale_fut[i])):\n",
    "        q_f=q_f-sale_fut[i][j]\n",
    "        sale_fut[i][j]=q_f"
   ]
  },
  {
   "cell_type": "code",
   "execution_count": 9,
   "metadata": {},
   "outputs": [
    {
     "data": {
      "text/plain": [
       "[[2000, 2000, 1500, 1000, 500, 500, 0],\n",
       " [2000, 1500, 1500, 1500, 1000, 500, 0],\n",
       " [2000, 1500, 1000, 1000, 500, 0, 0],\n",
       " [2000, 1500, 1000, 1000, 1000, 500, 0],\n",
       " [2000, 2000, 1500, 1000, 1000, 500, 0],\n",
       " [2000, 2000, 1500, 1000, 500, 0, 0],\n",
       " [2000, 2000, 2000, 1500, 1000, 500, 0],\n",
       " [2000, 1500, 1500, 1000, 500, 500, 0],\n",
       " [2000, 1500, 1000, 1000, 500, 500, 0],\n",
       " [2000, 1500, 1000, 500, 500, 500, 0],\n",
       " [2000, 1500, 1500, 1000, 500, 0, 0],\n",
       " [2000, 1500, 1500, 1000, 1000, 500, 0],\n",
       " [2000, 1500, 1000, 500, 500, 0, 0],\n",
       " [2000, 2000, 1500, 1500, 1000, 500, 0],\n",
       " [2000, 1500, 1000, 500, 0, 0, 0]]"
      ]
     },
     "execution_count": 9,
     "metadata": {},
     "output_type": "execute_result"
    }
   ],
   "source": [
    "sale_fut"
   ]
  },
  {
   "cell_type": "code",
   "execution_count": 10,
   "metadata": {},
   "outputs": [],
   "source": [
    "#Создадим вектора нереализованных позиций\n",
    "risk_exp=[]\n",
    "for i in range(0,len(sale_fut)):\n",
    "    diff_list = []\n",
    "    for x, y in zip(sale_fut[i][0::], sale_fut[i][1::]):\n",
    "        diff_list.append(x-y)\n",
    "    risk_exp.append(diff_list)"
   ]
  },
  {
   "cell_type": "code",
   "execution_count": 11,
   "metadata": {
    "scrolled": true
   },
   "outputs": [
    {
     "data": {
      "text/plain": [
       "[[0, 500, 500, 500, 0, 500],\n",
       " [500, 0, 0, 500, 500, 500],\n",
       " [500, 500, 0, 500, 500, 0],\n",
       " [500, 500, 0, 0, 500, 500],\n",
       " [0, 500, 500, 0, 500, 500],\n",
       " [0, 500, 500, 500, 500, 0],\n",
       " [0, 0, 500, 500, 500, 500],\n",
       " [500, 0, 500, 500, 0, 500],\n",
       " [500, 500, 0, 500, 0, 500],\n",
       " [500, 500, 500, 0, 0, 500],\n",
       " [500, 0, 500, 500, 500, 0],\n",
       " [500, 0, 500, 0, 500, 500],\n",
       " [500, 500, 500, 0, 500, 0],\n",
       " [0, 500, 0, 500, 500, 500],\n",
       " [500, 500, 500, 500, 0, 0]]"
      ]
     },
     "execution_count": 11,
     "metadata": {},
     "output_type": "execute_result"
    }
   ],
   "source": [
    "risk_exp"
   ]
  },
  {
   "cell_type": "code",
   "execution_count": 12,
   "metadata": {},
   "outputs": [],
   "source": [
    "for i in range(0,len(risk_exp)):\n",
    "    risk_exp[i].append(0)"
   ]
  },
  {
   "cell_type": "code",
   "execution_count": 13,
   "metadata": {},
   "outputs": [],
   "source": [
    "#in the money\n",
    "#Создаем список, куда будем заносить итоговый P&L портфеля для каждой стратегии на каждый день\n",
    "collateral=[]\n",
    "#задаем страйк фьючерса\n",
    "fut_strike=95\n",
    "#Задаем страйк опциона\n",
    "option_strike=95\n",
    "IV=0.25\n",
    "#Количетво дней закрытия всего портфеля\n",
    "close_days=len(q_c)\n",
    "r=0.05\n",
    "#Цена базового актива (фьючерса)\n",
    "price=100\n",
    "\n",
    "spot_p=[]\n",
    "contract_p=[]\n",
    "futures_p=[]\n",
    "\n",
    "for i in range(0,len(sale_fut)):\n",
    "    #Задаем параметры для варьирования сценариев\n",
    "    std=0.2\n",
    "    delta_std=0.2\n",
    "    risk_final_max=[]\n",
    "    spot_prices=[]\n",
    "    contract_prices=[]\n",
    "    futures_prices=[]\n",
    "    for j in range(0,close_days):\n",
    "        #Диапазон изменения с каждым днем расширяется\n",
    "        std=std+0.01*math.sqrt(j/365)\n",
    "        delta_std=0.01*(1+math.sqrt(j/365))\n",
    "        fut_time=(63-j)/252\n",
    "        option_time=(252-j)/252\n",
    "        fut_scan=[b*(-risk_exp[i][j]) for b in future_change(price,fut_strike,fut_time,r,std)]\n",
    "        call_scan=[h*q_c_risk[j] for h in option_change(price, option_strike, IV, option_time, std, delta_std, put=False)[0]]\n",
    "        spot_changes=option_change(price, option_strike, IV, option_time, std, delta_std, put=False)[1]\n",
    "        contract_changes=option_change(price, option_strike, IV, option_time, std, delta_std, put=False)[2]\n",
    "        futures_changes=future_change(price,fut_strike,fut_time,r,std)\n",
    "        #Стоимость портфеля на один день стратегии закрытия\n",
    "        margin_scenario=[]\n",
    "        for k in range(0,len(fut_scan)):\n",
    "            #Суммируем сценарии для каждого инструмента\n",
    "            margin_scenario.append(fut_scan[k]+call_scan[k])\n",
    "        #Выбираем минимальную стоимость портфеля из суммарных сценарием\n",
    "        risk_final_max.append(min(margin_scenario))\n",
    "        spot_prices.append(spot_changes[margin_scenario.index(min(margin_scenario))])\n",
    "        contract_prices.append(contract_changes[margin_scenario.index(min(margin_scenario))])\n",
    "        futures_prices.append(futures_changes[margin_scenario.index(min(margin_scenario))])\n",
    "    #Заносим совокупную стоимость портфеля для реализации стратегии в течение 7 дней на каждый день\n",
    "    collateral.append(risk_final_max)\n",
    "    spot_p.append(spot_prices)\n",
    "    contract_p.append(contract_prices)\n",
    "    futures_p.append(futures_prices)"
   ]
  },
  {
   "cell_type": "code",
   "execution_count": 45,
   "metadata": {},
   "outputs": [],
   "source": [
    "fut_strike=95\n",
    "option_strike=95\n",
    "IV=0.25\n",
    "close_days=len(q_c)\n",
    "r=0.05\n",
    "price=100\n",
    "std=0.2\n",
    "delta_std=0.2\n",
    "option_scenarios=[]\n",
    "futures_scenarios=[]\n",
    "for i in range(0,close_days):\n",
    "    std=std+0.01*math.sqrt((j+1)/365)\n",
    "    delta_std=0.01*(1+math.sqrt((j+1)/365))\n",
    "    fut_time=(63-j)/252\n",
    "    option_time=(252-j)/252\n",
    "    option_scenarios.append(option_change(price, option_strike, IV, option_time, std, delta_std, put=False)[0])\n",
    "    futures_scenarios.append(future_change(price,fut_strike,fut_time,r,std))"
   ]
  },
  {
   "cell_type": "code",
   "execution_count": 46,
   "metadata": {
    "scrolled": true
   },
   "outputs": [
    {
     "data": {
      "image/png": "[encoded data removed]",
      "text/plain": [
       "<Figure size 864x432 with 1 Axes>"
      ]
     },
     "metadata": {},
     "output_type": "display_data"
    }
   ],
   "source": [
    "#В первый день соотношение цены фьючерса и опциона в 16 span сценариях\n",
    "x1=np.arange(1,len(option_scenarios[0])+1)-0.1\n",
    "x2=np.arange(1,len(option_scenarios[0])+1)+0.1\n",
    "fig, ax = plt.subplots()\n",
    "\n",
    "ax.bar(x1, option_scenarios[0], width = 0.1, label='option')\n",
    "ax.bar(x2, futures_scenarios[0], width = 0.1,label='futures')\n",
    "\n",
    "ax.set_facecolor('seashell')\n",
    "fig.set_figwidth(12)    #  ширина Figure\n",
    "fig.set_figheight(6)    #  высота Figure\n",
    "fig.set_facecolor('floralwhite')\n",
    "plt.legend()\n",
    "plt.grid()\n",
    "plt.show()\n"
   ]
  },
  {
   "cell_type": "code",
   "execution_count": 47,
   "metadata": {},
   "outputs": [
    {
     "data": {
      "image/png": "[encoded data removed]",
      "text/plain": [
       "<Figure size 864x432 with 1 Axes>"
      ]
     },
     "metadata": {},
     "output_type": "display_data"
    }
   ],
   "source": [
    "#16 сценариев. Range для каждого сценария увеличивается на каждый день.\n",
    "x = np.arange(1,len(option_scenarios[0])+1)\n",
    "fig, ax = plt.subplots()\n",
    "message='option day {day_number}'\n",
    "for i in range(0,len(option_scenarios)):\n",
    "    ax.bar(x+0.12*i, option_scenarios[i], width = 0.05, label=message.format(day_number=i+1))\n",
    "\n",
    "\n",
    "ax.set_facecolor('seashell')\n",
    "fig.set_figwidth(12)    #  ширина Figure\n",
    "fig.set_figheight(6)    #  высота Figure\n",
    "fig.set_facecolor('floralwhite')\n",
    "ax.set_xlabel('16 span сценариев')\n",
    "plt.legend()\n",
    "plt.grid()\n",
    "plt.show()"
   ]
  },
  {
   "cell_type": "code",
   "execution_count": 24,
   "metadata": {},
   "outputs": [
    {
     "data": {
      "text/plain": [
       "[6.8232748740123625,\n",
       " 5.000000270046428,\n",
       " 9.700631585867335,\n",
       " 8.666666666666664,\n",
       " 4.387552899645488,\n",
       " 1.3802693741103909,\n",
       " 12.893407732606896,\n",
       " 12.333333333333329,\n",
       " 2.503538532550653,\n",
       " 0.0030581161574395055,\n",
       " 16.291405391904462,\n",
       " 16.0,\n",
       " 1.2184885975545736,\n",
       " 2.063448958317387e-11,\n",
       " 27.000013752588515,\n",
       " 1.882991030878131e-05]"
      ]
     },
     "execution_count": 24,
     "metadata": {},
     "output_type": "execute_result"
    }
   ],
   "source": [
    "option_change(55, 50, 0.25, 60/365, 0.2, 0.2, put=False)[2]"
   ]
  },
  {
   "cell_type": "code",
   "execution_count": 25,
   "metadata": {},
   "outputs": [
    {
     "data": {
      "text/plain": [
       "5.175268004231242"
      ]
     },
     "execution_count": 25,
     "metadata": {},
     "output_type": "execute_result"
    }
   ],
   "source": [
    "option_price_share(50, 45, 0.2, 60/365, put=False)"
   ]
  },
  {
   "cell_type": "code",
   "execution_count": 26,
   "metadata": {},
   "outputs": [
    {
     "data": {
      "text/plain": [
       "5.615511516265357"
      ]
     },
     "execution_count": 26,
     "metadata": {},
     "output_type": "execute_result"
    }
   ],
   "source": [
    "option_price_share(50, 45, 0.3, 60/365, put=False)"
   ]
  },
  {
   "cell_type": "code",
   "execution_count": 17,
   "metadata": {},
   "outputs": [
    {
     "data": {
      "text/plain": [
       "[[100,\n",
       "  121.0,\n",
       "  122.41421356237309,\n",
       "  124.14626436994199,\n",
       "  100,\n",
       "  43.23533530511647,\n",
       "  100],\n",
       " [120.0,\n",
       "  100,\n",
       "  100,\n",
       "  124.14626436994199,\n",
       "  126.14626436994199,\n",
       "  43.23533530511647,\n",
       "  100],\n",
       " [120.0,\n",
       "  121.0,\n",
       "  100,\n",
       "  124.14626436994199,\n",
       "  126.14626436994199,\n",
       "  43.23533530511647,\n",
       "  100],\n",
       " [120.0, 121.0, 100, 100, 126.14626436994199, 43.23533530511647, 100],\n",
       " [100,\n",
       "  121.0,\n",
       "  122.41421356237309,\n",
       "  100,\n",
       "  126.14626436994199,\n",
       "  43.23533530511647,\n",
       "  100],\n",
       " [100,\n",
       "  121.0,\n",
       "  122.41421356237309,\n",
       "  124.14626436994199,\n",
       "  126.14626436994199,\n",
       "  43.23533530511647,\n",
       "  100],\n",
       " [100,\n",
       "  100,\n",
       "  122.41421356237309,\n",
       "  124.14626436994199,\n",
       "  126.14626436994199,\n",
       "  43.23533530511647,\n",
       "  100],\n",
       " [120.0,\n",
       "  100,\n",
       "  122.41421356237309,\n",
       "  124.14626436994199,\n",
       "  100,\n",
       "  43.23533530511647,\n",
       "  100],\n",
       " [120.0, 121.0, 100, 124.14626436994199, 100, 43.23533530511647, 100],\n",
       " [120.0, 121.0, 122.41421356237309, 100, 100, 43.23533530511647, 100],\n",
       " [120.0,\n",
       "  100,\n",
       "  122.41421356237309,\n",
       "  124.14626436994199,\n",
       "  126.14626436994199,\n",
       "  43.23533530511647,\n",
       "  100],\n",
       " [120.0,\n",
       "  100,\n",
       "  122.41421356237309,\n",
       "  100,\n",
       "  126.14626436994199,\n",
       "  43.23533530511647,\n",
       "  100],\n",
       " [120.0,\n",
       "  121.0,\n",
       "  122.41421356237309,\n",
       "  100,\n",
       "  126.14626436994199,\n",
       "  43.23533530511647,\n",
       "  100],\n",
       " [100,\n",
       "  121.0,\n",
       "  100,\n",
       "  124.14626436994199,\n",
       "  126.14626436994199,\n",
       "  43.23533530511647,\n",
       "  100],\n",
       " [120.0,\n",
       "  121.0,\n",
       "  122.41421356237309,\n",
       "  124.14626436994199,\n",
       "  100,\n",
       "  43.23533530511647,\n",
       "  100]]"
      ]
     },
     "execution_count": 17,
     "metadata": {},
     "output_type": "execute_result"
    }
   ],
   "source": [
    "contract_p"
   ]
  },
  {
   "cell_type": "code",
   "execution_count": 19,
   "metadata": {},
   "outputs": [
    {
     "data": {
      "text/plain": [
       "[[6.180108953081259,\n",
       "  26.21383444073882,\n",
       "  26.26923716296035,\n",
       "  26.341272552014672,\n",
       "  6.1056191665625335,\n",
       "  -12.176680311171387,\n",
       "  6.068352097857996],\n",
       " [26.18010895308126,\n",
       "  6.161492048479801,\n",
       "  6.142871449681564,\n",
       "  26.341272552014672,\n",
       "  26.427329347141693,\n",
       "  -12.176680311171387,\n",
       "  6.068352097857996],\n",
       " [26.18010895308126,\n",
       "  26.21383444073882,\n",
       "  6.142871449681564,\n",
       "  26.341272552014672,\n",
       "  26.427329347141693,\n",
       "  -12.176680311171387,\n",
       "  6.068352097857996],\n",
       " [26.18010895308126,\n",
       "  26.21383444073882,\n",
       "  6.142871449681564,\n",
       "  6.1242471559535545,\n",
       "  26.427329347141693,\n",
       "  -12.176680311171387,\n",
       "  6.068352097857996],\n",
       " [6.180108953081259,\n",
       "  26.21383444073882,\n",
       "  26.26923716296035,\n",
       "  6.1242471559535545,\n",
       "  26.427329347141693,\n",
       "  -12.176680311171387,\n",
       "  6.068352097857996],\n",
       " [6.180108953081259,\n",
       "  26.21383444073882,\n",
       "  26.26923716296035,\n",
       "  26.341272552014672,\n",
       "  26.427329347141693,\n",
       "  -12.176680311171387,\n",
       "  6.068352097857996],\n",
       " [6.180108953081259,\n",
       "  6.161492048479801,\n",
       "  26.26923716296035,\n",
       "  26.341272552014672,\n",
       "  26.427329347141693,\n",
       "  -12.176680311171387,\n",
       "  6.068352097857996],\n",
       " [26.18010895308126,\n",
       "  6.161492048479801,\n",
       "  26.26923716296035,\n",
       "  26.341272552014672,\n",
       "  6.1056191665625335,\n",
       "  -12.176680311171387,\n",
       "  6.068352097857996],\n",
       " [26.18010895308126,\n",
       "  26.21383444073882,\n",
       "  6.142871449681564,\n",
       "  26.341272552014672,\n",
       "  6.1056191665625335,\n",
       "  -12.176680311171387,\n",
       "  6.068352097857996],\n",
       " [26.18010895308126,\n",
       "  26.21383444073882,\n",
       "  26.26923716296035,\n",
       "  6.1242471559535545,\n",
       "  6.1056191665625335,\n",
       "  -12.176680311171387,\n",
       "  6.068352097857996],\n",
       " [26.18010895308126,\n",
       "  6.161492048479801,\n",
       "  26.26923716296035,\n",
       "  26.341272552014672,\n",
       "  26.427329347141693,\n",
       "  -12.176680311171387,\n",
       "  6.068352097857996],\n",
       " [26.18010895308126,\n",
       "  6.161492048479801,\n",
       "  26.26923716296035,\n",
       "  6.1242471559535545,\n",
       "  26.427329347141693,\n",
       "  -12.176680311171387,\n",
       "  6.068352097857996],\n",
       " [26.18010895308126,\n",
       "  26.21383444073882,\n",
       "  26.26923716296035,\n",
       "  6.1242471559535545,\n",
       "  26.427329347141693,\n",
       "  -12.176680311171387,\n",
       "  6.068352097857996],\n",
       " [6.180108953081259,\n",
       "  26.21383444073882,\n",
       "  6.142871449681564,\n",
       "  26.341272552014672,\n",
       "  26.427329347141693,\n",
       "  -12.176680311171387,\n",
       "  6.068352097857996],\n",
       " [26.18010895308126,\n",
       "  26.21383444073882,\n",
       "  26.26923716296035,\n",
       "  26.341272552014672,\n",
       "  6.1056191665625335,\n",
       "  -12.176680311171387,\n",
       "  6.068352097857996]]"
      ]
     },
     "execution_count": 19,
     "metadata": {},
     "output_type": "execute_result"
    }
   ],
   "source": [
    "futures_p"
   ]
  },
  {
   "cell_type": "code",
   "execution_count": 37,
   "metadata": {},
   "outputs": [
    {
     "data": {
      "text/plain": [
       "[[0.0,\n",
       "  -13580.746024239901,\n",
       "  -14278.542506027328,\n",
       "  -15135.255762947772,\n",
       "  0.0,\n",
       "  -13126.828097754782,\n",
       "  0.0],\n",
       " [-13090.05447654063,\n",
       "  0.0,\n",
       "  0.0,\n",
       "  -15135.255762947772,\n",
       "  -16125.941768252262,\n",
       "  -13126.828097754782,\n",
       "  0.0],\n",
       " [-13090.05447654063,\n",
       "  -13580.746024239901,\n",
       "  0.0,\n",
       "  -15135.255762947772,\n",
       "  -16125.941768252262,\n",
       "  -23040.59687742639,\n",
       "  0.0],\n",
       " [-13090.05447654063,\n",
       "  -13580.746024239901,\n",
       "  0.0,\n",
       "  0.0,\n",
       "  -16125.941768252262,\n",
       "  -13126.828097754782,\n",
       "  0.0],\n",
       " [0.0,\n",
       "  -13580.746024239901,\n",
       "  -14278.542506027328,\n",
       "  0.0,\n",
       "  -16125.941768252262,\n",
       "  -13126.828097754782,\n",
       "  0.0],\n",
       " [0.0,\n",
       "  -13580.746024239901,\n",
       "  -14278.542506027328,\n",
       "  -15135.255762947772,\n",
       "  -16125.941768252262,\n",
       "  -23040.59687742639,\n",
       "  0.0],\n",
       " [0.0,\n",
       "  0.0,\n",
       "  -14278.542506027328,\n",
       "  -15135.255762947772,\n",
       "  -16125.941768252262,\n",
       "  -13126.828097754782,\n",
       "  0.0],\n",
       " [-13090.05447654063,\n",
       "  0.0,\n",
       "  -14278.542506027328,\n",
       "  -15135.255762947772,\n",
       "  0.0,\n",
       "  -13126.828097754782,\n",
       "  0.0],\n",
       " [-13090.05447654063,\n",
       "  -13580.746024239901,\n",
       "  0.0,\n",
       "  -15135.255762947772,\n",
       "  0.0,\n",
       "  -13126.828097754782,\n",
       "  0.0],\n",
       " [-13090.05447654063,\n",
       "  -13580.746024239901,\n",
       "  -14278.542506027328,\n",
       "  0.0,\n",
       "  0.0,\n",
       "  -13126.828097754782,\n",
       "  0.0],\n",
       " [-13090.05447654063,\n",
       "  0.0,\n",
       "  -14278.542506027328,\n",
       "  -15135.255762947772,\n",
       "  -16125.941768252262,\n",
       "  -23040.59687742639,\n",
       "  0.0],\n",
       " [-13090.05447654063,\n",
       "  0.0,\n",
       "  -14278.542506027328,\n",
       "  0.0,\n",
       "  -16125.941768252262,\n",
       "  -13126.828097754782,\n",
       "  0.0],\n",
       " [-13090.05447654063,\n",
       "  -13580.746024239901,\n",
       "  -14278.542506027328,\n",
       "  0.0,\n",
       "  -16125.941768252262,\n",
       "  -23040.59687742639,\n",
       "  0.0],\n",
       " [0.0,\n",
       "  -13580.746024239901,\n",
       "  0.0,\n",
       "  -15135.255762947772,\n",
       "  -16125.941768252262,\n",
       "  -13126.828097754782,\n",
       "  0.0],\n",
       " [-13090.05447654063,\n",
       "  -13580.746024239901,\n",
       "  -14278.542506027328,\n",
       "  -15135.255762947772,\n",
       "  0.0,\n",
       "  -23040.59687742639,\n",
       "  0.0]]"
      ]
     },
     "execution_count": 37,
     "metadata": {},
     "output_type": "execute_result"
    }
   ],
   "source": [
    "collateral"
   ]
  },
  {
   "cell_type": "code",
   "execution_count": 17,
   "metadata": {},
   "outputs": [],
   "source": [
    "#Для каждой стратегии закрытия находим стоимость портфеля суммарную в течение 7 дней\n",
    "cum_coll=list(map(lambda x: sum(x),collateral))"
   ]
  },
  {
   "cell_type": "code",
   "execution_count": 18,
   "metadata": {},
   "outputs": [
    {
     "data": {
      "text/plain": [
       "[-51480.11843981898,\n",
       " -51542.30178808087,\n",
       " -71825.10093195034,\n",
       " -51478.58273244295,\n",
       " -51523.14683738249,\n",
       " -71869.66503688987,\n",
       " -51586.86589302042,\n",
       " -51463.2556959902,\n",
       " -51435.55433487944,\n",
       " -51399.53664035227,\n",
       " -71852.8022930611,\n",
       " -51506.28409355371,\n",
       " -71789.08323742317,\n",
       " -51559.16453190965,\n",
       " -71746.05483985966]"
      ]
     },
     "execution_count": 18,
     "metadata": {},
     "output_type": "execute_result"
    }
   ],
   "source": [
    "cum_coll"
   ]
  },
  {
   "cell_type": "code",
   "execution_count": 19,
   "metadata": {},
   "outputs": [],
   "source": [
    "#Конвертируем в array для удобства\n",
    "close_strategy=np.array(sale_fut)\n",
    "#Делаем кумулятивную сумму для каждого элемента списка объема форвардных позиций\n",
    "close_strategy_cum=list(map(lambda x: (x.cumsum())/7,close_strategy))\n",
    "#Суммируем эти кумулятивные элементы\n",
    "close_strategy_sum=list(map(lambda x: sum(x),close_strategy_cum))"
   ]
  },
  {
   "cell_type": "code",
   "execution_count": 20,
   "metadata": {},
   "outputs": [],
   "source": [
    "table=pd.DataFrame(columns=['scenario','collateral'])\n",
    "table['scenario']=close_strategy_sum\n",
    "table['collateral']=cum_coll\n",
    "sort_table=table.sort_values(['scenario'],ascending=[1])\n",
    "sort_table.index = np.arange(len(sort_table))"
   ]
  },
  {
   "cell_type": "code",
   "execution_count": 21,
   "metadata": {},
   "outputs": [
    {
     "data": {
      "image/png": "[encoded data removed]",
      "text/plain": [
       "<Figure size 432x288 with 1 Axes>"
      ]
     },
     "metadata": {
      "needs_background": "light"
     },
     "output_type": "display_data"
    }
   ],
   "source": [
    "plt.plot(sort_table['scenario'], sort_table['collateral'], '--', label='collateral')\n",
    "plt.title('Залог для каждого сценария')\n",
    "plt.ylabel('Убытки')\n",
    "plt.xlabel('Среднее количество удерживаемых позиций в день') #средняя позиция к риску\n",
    "plt.legend()\n",
    "plt.show()\n",
    "#Чем больше показатель по оси x, тем дольше удерживаем форвардные контракты в портфеле"
   ]
  },
  {
   "cell_type": "code",
   "execution_count": 20,
   "metadata": {},
   "outputs": [],
   "source": [
    "#Для отрисовки P&L портфеля в день исполнения\n",
    "\n",
    "#Функции для расчета цены фьючерса на 1 день\n",
    "def future_const_long(price,strike,time,r):\n",
    "    future_price=price-strike*(math.exp(-time*r))\n",
    "    return future_price\n",
    "\n",
    "def future_const_short(price,strike,time,r):\n",
    "    future_price=-(price-strike*(math.exp(-time*r)))\n",
    "    return future_price"
   ]
  },
  {
   "cell_type": "code",
   "execution_count": 21,
   "metadata": {},
   "outputs": [],
   "source": [
    "#Для построения графика создаем range спотовых цен\n",
    "spot= np.arange(1, 31, 0.1)\n",
    "#Список страйков на каждый день\n",
    "K=15*np.ones(len(spot))\n",
    "#Отрисовка в день исполнения\n",
    "time=(0/252)*np.ones(len(spot))\n",
    "#Вектор ставок\n",
    "r=0.05*np.ones(len(spot))\n",
    "\n",
    "#Список цен фьючерсов в зависимости от спотовой цены\n",
    "fut_price_short=list(map(future_const_short,spot,K,time,r))"
   ]
  },
  {
   "cell_type": "code",
   "execution_count": 22,
   "metadata": {},
   "outputs": [
    {
     "name": "stderr",
     "output_type": "stream",
     "text": [
      "C:\\Users\\800G1\\anaconda3\\lib\\site-packages\\ipykernel_launcher.py:7: RuntimeWarning: divide by zero encountered in double_scalars\n",
      "  import sys\n"
     ]
    }
   ],
   "source": [
    "IV=0.25*np.ones(len(spot))\n",
    "time0=np.zeros(len(spot))\n",
    "r=0.05*np.ones(len(spot))\n",
    "call_price_cont=list(map(option_price_share,spot,K,IV,time0,r))"
   ]
  },
  {
   "cell_type": "code",
   "execution_count": 23,
   "metadata": {},
   "outputs": [
    {
     "data": {
      "image/png": "[encoded data removed]",
      "text/plain": [
       "<Figure size 648x648 with 1 Axes>"
      ]
     },
     "metadata": {
      "needs_background": "light"
     },
     "output_type": "display_data"
    }
   ],
   "source": [
    "plt.figure(figsize=(9,9))\n",
    "\n",
    "plt.plot(spot, call_price_cont, ':',color='aqua',linewidth=4,label='Long Call Option')\n",
    "plt.plot(spot, fut_price_short, '--',color='indigo',linewidth=4, label='Short Futures')\n",
    "plt.title('P&L портфеля: Long Call Option + Short Futures',fontsize=15)\n",
    "plt.legend(fontsize=15)\n",
    "plt.tick_params(labelsize=15)\n",
    "plt.annotate('Strike',fontsize=15, xy=(15, 0),  xycoords='data',\n",
    "            xytext=(20, 0), textcoords='data',\n",
    "            arrowprops=dict(facecolor='aqua'))\n",
    "plt.grid()\n",
    "\n",
    "plt.show()"
   ]
  },
  {
   "cell_type": "code",
   "execution_count": null,
   "metadata": {},
   "outputs": [],
   "source": []
  }
 ],
 "metadata": {
  "kernelspec": {
   "display_name": "Python 3",
   "language": "python",
   "name": "python3"
  },
  "language_info": {
   "codemirror_mode": {
    "name": "ipython",
    "version": 3
   },
   "file_extension": ".py",
   "mimetype": "text/x-python",
   "name": "python",
   "nbconvert_exporter": "python",
   "pygments_lexer": "ipython3",
   "version": "3.7.6"
  }
 },
 "nbformat": 4,
 "nbformat_minor": 4
}
