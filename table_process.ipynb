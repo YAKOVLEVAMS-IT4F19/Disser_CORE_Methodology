{
 "cells": [
  {
   "cell_type": "code",
   "execution_count": 2,
   "metadata": {},
   "outputs": [],
   "source": [
    "#Импортируем таблицы в список res[]\n",
    "import pandas as pd\n",
    "import os\n",
    "\n",
    "files = os.listdir('D:/Course_Paper/DESC_OPT') #список файлов в папке folder\n",
    "\n",
    "res = []\n",
    "for file in files:\n",
    "     #файл - только название файла. Поэтому нужно добавить еще путь к нему\n",
    "    res.append(pd.read_csv('D:/Course_Paper/DESC_OPT/'+file, delimiter=\";\", encoding='latin-1'))\n",
    "\n"
   ]
  },
  {
   "cell_type": "code",
   "execution_count": 3,
   "metadata": {},
   "outputs": [],
   "source": [
    "l=len(res)"
   ]
  },
  {
   "cell_type": "code",
   "execution_count": 4,
   "metadata": {},
   "outputs": [],
   "source": [
    "common_table=res[0]\n",
    "for i in range(1,l):\n",
    "    common_table=pd.concat([common_table, res[i]])"
   ]
  },
  {
   "cell_type": "code",
   "execution_count": 5,
   "metadata": {},
   "outputs": [],
   "source": [
    "columns=['REFERENCE_DATE','CONTRACT','FUT_CONTR','STRIKE','PUT','THEORPRICE','VOLAT','BASEGOBUY']"
   ]
  },
  {
   "cell_type": "code",
   "execution_count": 6,
   "metadata": {},
   "outputs": [],
   "source": [
    "options=common_table[columns]"
   ]
  },
  {
   "cell_type": "code",
   "execution_count": 7,
   "metadata": {},
   "outputs": [
    {
     "data": {
      "text/html": [
       "<div>\n",
       "<style scoped>\n",
       "    .dataframe tbody tr th:only-of-type {\n",
       "        vertical-align: middle;\n",
       "    }\n",
       "\n",
       "    .dataframe tbody tr th {\n",
       "        vertical-align: top;\n",
       "    }\n",
       "\n",
       "    .dataframe thead th {\n",
       "        text-align: right;\n",
       "    }\n",
       "</style>\n",
       "<table border=\"1\" class=\"dataframe\">\n",
       "  <thead>\n",
       "    <tr style=\"text-align: right;\">\n",
       "      <th></th>\n",
       "      <th>REFERENCE_DATE</th>\n",
       "      <th>CONTRACT</th>\n",
       "      <th>FUT_CONTR</th>\n",
       "      <th>STRIKE</th>\n",
       "      <th>PUT</th>\n",
       "      <th>THEORPRICE</th>\n",
       "      <th>VOLAT</th>\n",
       "      <th>BASEGOBUY</th>\n",
       "    </tr>\n",
       "  </thead>\n",
       "  <tbody>\n",
       "    <tr>\n",
       "      <th>0</th>\n",
       "      <td>2016-07-01</td>\n",
       "      <td>BR-8.16M260716CA 38</td>\n",
       "      <td>BR-8.16</td>\n",
       "      <td>38.0</td>\n",
       "      <td>C</td>\n",
       "      <td>11.82</td>\n",
       "      <td>46.29193</td>\n",
       "      <td>4474.26</td>\n",
       "    </tr>\n",
       "    <tr>\n",
       "      <th>1</th>\n",
       "      <td>2016-07-01</td>\n",
       "      <td>BR-8.16M260716CA 46</td>\n",
       "      <td>BR-8.16</td>\n",
       "      <td>46.0</td>\n",
       "      <td>C</td>\n",
       "      <td>4.38</td>\n",
       "      <td>38.26742</td>\n",
       "      <td>3075.90</td>\n",
       "    </tr>\n",
       "    <tr>\n",
       "      <th>2</th>\n",
       "      <td>2016-07-01</td>\n",
       "      <td>BR-8.16M260716CA 47</td>\n",
       "      <td>BR-8.16</td>\n",
       "      <td>47.0</td>\n",
       "      <td>C</td>\n",
       "      <td>3.62</td>\n",
       "      <td>37.75195</td>\n",
       "      <td>2624.05</td>\n",
       "    </tr>\n",
       "    <tr>\n",
       "      <th>3</th>\n",
       "      <td>2016-07-01</td>\n",
       "      <td>BR-8.16M260716CA 48</td>\n",
       "      <td>BR-8.16</td>\n",
       "      <td>48.0</td>\n",
       "      <td>C</td>\n",
       "      <td>2.94</td>\n",
       "      <td>37.32062</td>\n",
       "      <td>2159.12</td>\n",
       "    </tr>\n",
       "    <tr>\n",
       "      <th>4</th>\n",
       "      <td>2016-07-01</td>\n",
       "      <td>BR-8.16M260716CA 49</td>\n",
       "      <td>BR-8.16</td>\n",
       "      <td>49.0</td>\n",
       "      <td>C</td>\n",
       "      <td>2.33</td>\n",
       "      <td>36.96086</td>\n",
       "      <td>1721.80</td>\n",
       "    </tr>\n",
       "    <tr>\n",
       "      <th>...</th>\n",
       "      <td>...</td>\n",
       "      <td>...</td>\n",
       "      <td>...</td>\n",
       "      <td>...</td>\n",
       "      <td>...</td>\n",
       "      <td>...</td>\n",
       "      <td>...</td>\n",
       "      <td>...</td>\n",
       "    </tr>\n",
       "    <tr>\n",
       "      <th>1553</th>\n",
       "      <td>2020-02-11</td>\n",
       "      <td>VTBR-9.20M160920CA10750</td>\n",
       "      <td>VTBR-9.20</td>\n",
       "      <td>10750.0</td>\n",
       "      <td>C</td>\n",
       "      <td>9.00</td>\n",
       "      <td>45.58581</td>\n",
       "      <td>8.85</td>\n",
       "    </tr>\n",
       "    <tr>\n",
       "      <th>1554</th>\n",
       "      <td>2020-02-11</td>\n",
       "      <td>VTBR-9.20M160920CA5250</td>\n",
       "      <td>VTBR-9.20</td>\n",
       "      <td>5250.0</td>\n",
       "      <td>C</td>\n",
       "      <td>271.00</td>\n",
       "      <td>30.27834</td>\n",
       "      <td>267.33</td>\n",
       "    </tr>\n",
       "    <tr>\n",
       "      <th>1555</th>\n",
       "      <td>2020-02-11</td>\n",
       "      <td>VTBR-9.20M160920CA5750</td>\n",
       "      <td>VTBR-9.20</td>\n",
       "      <td>5750.0</td>\n",
       "      <td>C</td>\n",
       "      <td>153.00</td>\n",
       "      <td>30.46863</td>\n",
       "      <td>152.36</td>\n",
       "    </tr>\n",
       "    <tr>\n",
       "      <th>1556</th>\n",
       "      <td>2020-02-11</td>\n",
       "      <td>VTBR-9.20M160920PA2250</td>\n",
       "      <td>VTBR-9.20</td>\n",
       "      <td>2250.0</td>\n",
       "      <td>P</td>\n",
       "      <td>12.00</td>\n",
       "      <td>49.84617</td>\n",
       "      <td>11.05</td>\n",
       "    </tr>\n",
       "    <tr>\n",
       "      <th>1557</th>\n",
       "      <td>2020-02-11</td>\n",
       "      <td>VTBR-9.20M160920PA2500</td>\n",
       "      <td>VTBR-9.20</td>\n",
       "      <td>2500.0</td>\n",
       "      <td>P</td>\n",
       "      <td>17.00</td>\n",
       "      <td>46.23786</td>\n",
       "      <td>15.92</td>\n",
       "    </tr>\n",
       "  </tbody>\n",
       "</table>\n",
       "<p>1002028 rows × 8 columns</p>\n",
       "</div>"
      ],
      "text/plain": [
       "     REFERENCE_DATE                 CONTRACT  FUT_CONTR   STRIKE PUT  \\\n",
       "0        2016-07-01      BR-8.16M260716CA 38    BR-8.16     38.0   C   \n",
       "1        2016-07-01      BR-8.16M260716CA 46    BR-8.16     46.0   C   \n",
       "2        2016-07-01      BR-8.16M260716CA 47    BR-8.16     47.0   C   \n",
       "3        2016-07-01      BR-8.16M260716CA 48    BR-8.16     48.0   C   \n",
       "4        2016-07-01      BR-8.16M260716CA 49    BR-8.16     49.0   C   \n",
       "...             ...                      ...        ...      ...  ..   \n",
       "1553     2020-02-11  VTBR-9.20M160920CA10750  VTBR-9.20  10750.0   C   \n",
       "1554     2020-02-11   VTBR-9.20M160920CA5250  VTBR-9.20   5250.0   C   \n",
       "1555     2020-02-11   VTBR-9.20M160920CA5750  VTBR-9.20   5750.0   C   \n",
       "1556     2020-02-11   VTBR-9.20M160920PA2250  VTBR-9.20   2250.0   P   \n",
       "1557     2020-02-11   VTBR-9.20M160920PA2500  VTBR-9.20   2500.0   P   \n",
       "\n",
       "      THEORPRICE     VOLAT  BASEGOBUY  \n",
       "0          11.82  46.29193    4474.26  \n",
       "1           4.38  38.26742    3075.90  \n",
       "2           3.62  37.75195    2624.05  \n",
       "3           2.94  37.32062    2159.12  \n",
       "4           2.33  36.96086    1721.80  \n",
       "...          ...       ...        ...  \n",
       "1553        9.00  45.58581       8.85  \n",
       "1554      271.00  30.27834     267.33  \n",
       "1555      153.00  30.46863     152.36  \n",
       "1556       12.00  49.84617      11.05  \n",
       "1557       17.00  46.23786      15.92  \n",
       "\n",
       "[1002028 rows x 8 columns]"
      ]
     },
     "execution_count": 7,
     "metadata": {},
     "output_type": "execute_result"
    }
   ],
   "source": [
    "options"
   ]
  },
  {
   "cell_type": "code",
   "execution_count": 8,
   "metadata": {},
   "outputs": [
    {
     "data": {
      "text/plain": [
       "numpy.float64"
      ]
     },
     "execution_count": 8,
     "metadata": {},
     "output_type": "execute_result"
    }
   ],
   "source": [
    "type(options.iloc[0,7])"
   ]
  },
  {
   "cell_type": "code",
   "execution_count": 9,
   "metadata": {
    "scrolled": true
   },
   "outputs": [
    {
     "name": "stderr",
     "output_type": "stream",
     "text": [
      "C:\\Users\\800G1\\anaconda3\\lib\\site-packages\\pandas\\core\\indexing.py:965: SettingWithCopyWarning: \n",
      "A value is trying to be set on a copy of a slice from a DataFrame.\n",
      "Try using .loc[row_indexer,col_indexer] = value instead\n",
      "\n",
      "See the caveats in the documentation: https://pandas.pydata.org/pandas-docs/stable/user_guide/indexing.html#returning-a-view-versus-a-copy\n",
      "  self.obj[item] = s\n"
     ]
    }
   ],
   "source": [
    "options.iloc[:,0]=pd.to_datetime(options.iloc[:,0],format='%Y-%m-%d')\n"
   ]
  },
  {
   "cell_type": "code",
   "execution_count": 10,
   "metadata": {},
   "outputs": [],
   "source": [
    "options.to_csv(r'D:/Course_Paper/options_common_table_0304.csv')"
   ]
  },
  {
   "cell_type": "code",
   "execution_count": 11,
   "metadata": {},
   "outputs": [],
   "source": [
    "#Импортируем файлы, содержащие информацию об expiration date\n",
    "addfiles = os.listdir('D:/Course_Paper/RISK_OPT') #список файлов в папке folder\n",
    "\n",
    "folder = []\n",
    "for addfile in addfiles:\n",
    "     #файл - только название файла. Поэтому нужно добавить еще путь к нему\n",
    "    folder.append(pd.read_csv('D:/Course_Paper/RISK_OPT/'+addfile, delimiter=\";\", encoding='latin-1'))\n",
    "    \n"
   ]
  },
  {
   "cell_type": "code",
   "execution_count": 12,
   "metadata": {},
   "outputs": [],
   "source": [
    "common_table_risk=folder[0]\n",
    "for i in range(1,len(folder)):\n",
    "    common_table_risk=pd.concat([common_table_risk, folder[i]])"
   ]
  },
  {
   "cell_type": "code",
   "execution_count": 13,
   "metadata": {},
   "outputs": [],
   "source": [
    "cols=['REFERENCE_DATE','EXP_DATE','TICKER','IM_NOTCOVSELL','IM_COVSELL','IM_BUY']"
   ]
  },
  {
   "cell_type": "code",
   "execution_count": 14,
   "metadata": {},
   "outputs": [],
   "source": [
    "options_risk=common_table_risk[cols]"
   ]
  },
  {
   "cell_type": "code",
   "execution_count": 15,
   "metadata": {},
   "outputs": [
    {
     "data": {
      "text/html": [
       "<div>\n",
       "<style scoped>\n",
       "    .dataframe tbody tr th:only-of-type {\n",
       "        vertical-align: middle;\n",
       "    }\n",
       "\n",
       "    .dataframe tbody tr th {\n",
       "        vertical-align: top;\n",
       "    }\n",
       "\n",
       "    .dataframe thead th {\n",
       "        text-align: right;\n",
       "    }\n",
       "</style>\n",
       "<table border=\"1\" class=\"dataframe\">\n",
       "  <thead>\n",
       "    <tr style=\"text-align: right;\">\n",
       "      <th></th>\n",
       "      <th>REFERENCE_DATE</th>\n",
       "      <th>EXP_DATE</th>\n",
       "      <th>TICKER</th>\n",
       "      <th>IM_NOTCOVSELL</th>\n",
       "      <th>IM_COVSELL</th>\n",
       "      <th>IM_BUY</th>\n",
       "    </tr>\n",
       "  </thead>\n",
       "  <tbody>\n",
       "    <tr>\n",
       "      <th>0</th>\n",
       "      <td>2016-07-04</td>\n",
       "      <td>26-JUL-16</td>\n",
       "      <td>BR-8.16M260716CA 38</td>\n",
       "      <td>4506.46</td>\n",
       "      <td>899.76</td>\n",
       "      <td>4482.75</td>\n",
       "    </tr>\n",
       "    <tr>\n",
       "      <th>1</th>\n",
       "      <td>2016-07-04</td>\n",
       "      <td>26-JUL-16</td>\n",
       "      <td>BR-8.16M260716CA 39</td>\n",
       "      <td>4504.49</td>\n",
       "      <td>1080.39</td>\n",
       "      <td>4480.76</td>\n",
       "    </tr>\n",
       "    <tr>\n",
       "      <th>2</th>\n",
       "      <td>2016-07-04</td>\n",
       "      <td>26-JUL-16</td>\n",
       "      <td>BR-8.16M260716CA 40</td>\n",
       "      <td>4504.11</td>\n",
       "      <td>1269.00</td>\n",
       "      <td>4464.58</td>\n",
       "    </tr>\n",
       "    <tr>\n",
       "      <th>3</th>\n",
       "      <td>2016-07-04</td>\n",
       "      <td>26-JUL-16</td>\n",
       "      <td>BR-8.16M260716CA 41</td>\n",
       "      <td>4498.45</td>\n",
       "      <td>1459.86</td>\n",
       "      <td>4425.91</td>\n",
       "    </tr>\n",
       "    <tr>\n",
       "      <th>4</th>\n",
       "      <td>2016-07-04</td>\n",
       "      <td>26-JUL-16</td>\n",
       "      <td>BR-8.16M260716CA 42</td>\n",
       "      <td>4495.65</td>\n",
       "      <td>1655.36</td>\n",
       "      <td>4332.74</td>\n",
       "    </tr>\n",
       "    <tr>\n",
       "      <th>...</th>\n",
       "      <td>...</td>\n",
       "      <td>...</td>\n",
       "      <td>...</td>\n",
       "      <td>...</td>\n",
       "      <td>...</td>\n",
       "      <td>...</td>\n",
       "    </tr>\n",
       "    <tr>\n",
       "      <th>12631</th>\n",
       "      <td>2020-02-11</td>\n",
       "      <td>16-SEP-20</td>\n",
       "      <td>VTBR-9.20M160920PA8750</td>\n",
       "      <td>927.15</td>\n",
       "      <td>107.11</td>\n",
       "      <td>956.46</td>\n",
       "    </tr>\n",
       "    <tr>\n",
       "      <th>12632</th>\n",
       "      <td>2020-02-11</td>\n",
       "      <td>16-SEP-20</td>\n",
       "      <td>VTBR-9.20M160920PA9000</td>\n",
       "      <td>927.79</td>\n",
       "      <td>97.80</td>\n",
       "      <td>958.45</td>\n",
       "    </tr>\n",
       "    <tr>\n",
       "      <th>12633</th>\n",
       "      <td>2020-02-11</td>\n",
       "      <td>16-SEP-20</td>\n",
       "      <td>VTBR-9.20M160920PA9250</td>\n",
       "      <td>927.64</td>\n",
       "      <td>89.54</td>\n",
       "      <td>960.71</td>\n",
       "    </tr>\n",
       "    <tr>\n",
       "      <th>12634</th>\n",
       "      <td>2020-02-11</td>\n",
       "      <td>16-SEP-20</td>\n",
       "      <td>VTBR-9.20M160920PA9500</td>\n",
       "      <td>927.67</td>\n",
       "      <td>82.36</td>\n",
       "      <td>962.41</td>\n",
       "    </tr>\n",
       "    <tr>\n",
       "      <th>12635</th>\n",
       "      <td>2020-02-11</td>\n",
       "      <td>16-SEP-20</td>\n",
       "      <td>VTBR-9.20M160920PA9750</td>\n",
       "      <td>927.83</td>\n",
       "      <td>81.41</td>\n",
       "      <td>963.67</td>\n",
       "    </tr>\n",
       "  </tbody>\n",
       "</table>\n",
       "<p>8035502 rows × 6 columns</p>\n",
       "</div>"
      ],
      "text/plain": [
       "      REFERENCE_DATE   EXP_DATE                  TICKER  IM_NOTCOVSELL  \\\n",
       "0         2016-07-04  26-JUL-16     BR-8.16M260716CA 38        4506.46   \n",
       "1         2016-07-04  26-JUL-16     BR-8.16M260716CA 39        4504.49   \n",
       "2         2016-07-04  26-JUL-16     BR-8.16M260716CA 40        4504.11   \n",
       "3         2016-07-04  26-JUL-16     BR-8.16M260716CA 41        4498.45   \n",
       "4         2016-07-04  26-JUL-16     BR-8.16M260716CA 42        4495.65   \n",
       "...              ...        ...                     ...            ...   \n",
       "12631     2020-02-11  16-SEP-20  VTBR-9.20M160920PA8750         927.15   \n",
       "12632     2020-02-11  16-SEP-20  VTBR-9.20M160920PA9000         927.79   \n",
       "12633     2020-02-11  16-SEP-20  VTBR-9.20M160920PA9250         927.64   \n",
       "12634     2020-02-11  16-SEP-20  VTBR-9.20M160920PA9500         927.67   \n",
       "12635     2020-02-11  16-SEP-20  VTBR-9.20M160920PA9750         927.83   \n",
       "\n",
       "       IM_COVSELL   IM_BUY  \n",
       "0          899.76  4482.75  \n",
       "1         1080.39  4480.76  \n",
       "2         1269.00  4464.58  \n",
       "3         1459.86  4425.91  \n",
       "4         1655.36  4332.74  \n",
       "...           ...      ...  \n",
       "12631      107.11   956.46  \n",
       "12632       97.80   958.45  \n",
       "12633       89.54   960.71  \n",
       "12634       82.36   962.41  \n",
       "12635       81.41   963.67  \n",
       "\n",
       "[8035502 rows x 6 columns]"
      ]
     },
     "execution_count": 15,
     "metadata": {},
     "output_type": "execute_result"
    }
   ],
   "source": [
    "options_risk"
   ]
  },
  {
   "cell_type": "code",
   "execution_count": 16,
   "metadata": {},
   "outputs": [
    {
     "name": "stderr",
     "output_type": "stream",
     "text": [
      "C:\\Users\\800G1\\anaconda3\\lib\\site-packages\\pandas\\core\\indexing.py:965: SettingWithCopyWarning: \n",
      "A value is trying to be set on a copy of a slice from a DataFrame.\n",
      "Try using .loc[row_indexer,col_indexer] = value instead\n",
      "\n",
      "See the caveats in the documentation: https://pandas.pydata.org/pandas-docs/stable/user_guide/indexing.html#returning-a-view-versus-a-copy\n",
      "  self.obj[item] = s\n"
     ]
    }
   ],
   "source": [
    "options_risk.iloc[:,0]=pd.to_datetime(options_risk.iloc[:,0],format='%Y-%m-%d')\n",
    "options_risk.iloc[:,1]=pd.to_datetime(options_risk.iloc[:,1],format='%d-%b-%y')"
   ]
  },
  {
   "cell_type": "code",
   "execution_count": 17,
   "metadata": {},
   "outputs": [],
   "source": [
    "options_risk.to_csv(r'D:/Course_Paper/options_risk_common_table_0304.csv')"
   ]
  },
  {
   "cell_type": "code",
   "execution_count": null,
   "metadata": {},
   "outputs": [],
   "source": []
  }
 ],
 "metadata": {
  "kernelspec": {
   "display_name": "Python 3",
   "language": "python",
   "name": "python3"
  },
  "language_info": {
   "codemirror_mode": {
    "name": "ipython",
    "version": 3
   },
   "file_extension": ".py",
   "mimetype": "text/x-python",
   "name": "python",
   "nbconvert_exporter": "python",
   "pygments_lexer": "ipython3",
   "version": "3.7.6"
  }
 },
 "nbformat": 4,
 "nbformat_minor": 4
}
